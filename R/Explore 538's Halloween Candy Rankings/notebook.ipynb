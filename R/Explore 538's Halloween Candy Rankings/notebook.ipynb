{
 "cells": [
  {
   "cell_type": "markdown",
   "metadata": {
    "dc": {
     "key": "4"
    },
    "deletable": false,
    "editable": false,
    "run_control": {
     "frozen": true
    },
    "tags": [
     "context"
    ]
   },
   "source": [
    "## 1. Importing packages and data\n",
    "<p><img src=\"https://s3.amazonaws.com/assets.datacamp.com/production/project_458/img/candy.jpg\" alt=\"Bowl of halloween candy\"></p>\n",
    "<p>With Halloween just around the corner, it seems like everyone has candy on the brain! There's a great dataset from <a href=\"https://fivethirtyeight.com/\">FiveThirtyEight</a> that includes all sorts of different information about different kinds of candy. For example, is it chocolaty? Is there nougat? How does the cost compare to other candies? How many people prefer this candy over another?</p>\n",
    "<p>We'll run through a whirlwind tour of this dataset and wrap up by trying some modeling techniques out on it! Specifically, we'll take a look at linear and logistic regression.</p>\n",
    "<p>First things first, let's get our packages and data loaded up and take a look at exactly what we're dealing with.</p>"
   ]
  },
  {
   "cell_type": "code",
   "execution_count": 18,
   "metadata": {
    "dc": {
     "key": "4"
    },
    "tags": [
     "sample_code"
    ]
   },
   "outputs": [
    {
     "name": "stdout",
     "output_type": "stream",
     "text": [
      "Observations: 85\n",
      "Variables: 13\n",
      "$ competitorname   <chr> \"100 Grand\", \"3 Musketeers\", \"One dime\", \"One quar...\n",
      "$ chocolate        <lgl> TRUE, TRUE, FALSE, FALSE, FALSE, TRUE, TRUE, FALSE...\n",
      "$ fruity           <lgl> FALSE, FALSE, FALSE, FALSE, TRUE, FALSE, FALSE, FA...\n",
      "$ caramel          <lgl> TRUE, FALSE, FALSE, FALSE, FALSE, FALSE, TRUE, FAL...\n",
      "$ peanutyalmondy   <lgl> FALSE, FALSE, FALSE, FALSE, FALSE, TRUE, TRUE, TRU...\n",
      "$ nougat           <lgl> FALSE, TRUE, FALSE, FALSE, FALSE, FALSE, TRUE, FAL...\n",
      "$ crispedricewafer <lgl> TRUE, FALSE, FALSE, FALSE, FALSE, FALSE, FALSE, FA...\n",
      "$ hard             <lgl> FALSE, FALSE, FALSE, FALSE, FALSE, FALSE, FALSE, F...\n",
      "$ bar              <lgl> TRUE, TRUE, FALSE, FALSE, FALSE, TRUE, TRUE, FALSE...\n",
      "$ pluribus         <lgl> FALSE, FALSE, FALSE, FALSE, FALSE, FALSE, FALSE, T...\n",
      "$ sugarpercent     <dbl> 0.732, 0.604, 0.011, 0.011, 0.906, 0.465, 0.604, 0...\n",
      "$ pricepercent     <dbl> 0.860, 0.511, 0.116, 0.511, 0.511, 0.767, 0.767, 0...\n",
      "$ winpercent       <dbl> 66.97173, 67.60294, 32.26109, 46.11650, 52.34146, ...\n"
     ]
    }
   ],
   "source": [
    "# Load all the packages we need\n",
    "library(tidyverse)\n",
    "library(broom)\n",
    "library(corrplot)\n",
    "library(fivethirtyeight)\n",
    "\n",
    "# Load the candy_rankings dataset from the fivethirtyeight package\n",
    "data(candy_rankings)\n",
    "\n",
    "# Take a glimpse() at the dataset\n",
    "glimpse(candy_rankings)"
   ]
  },
  {
   "cell_type": "markdown",
   "metadata": {
    "dc": {
     "key": "11"
    },
    "deletable": false,
    "editable": false,
    "run_control": {
     "frozen": true
    },
    "tags": [
     "context"
    ]
   },
   "source": [
    "## 2. Explore the distributions of categorical variables\n",
    "<p>Let's get started by taking a look at the distributions of each of these binary categorical variables. There are quite a few of them, so we'll have to do some data wrangling to get them in shape for plotting. We'll explore these by making a bar chart showing the breakdown of each column. This lets us get a sense of the proportion of <code>TRUE</code>s and <code>FALSE</code>s in each column. To do this you'll use the <code>gather()</code> function to get a dataset that looks something like this:</p>\n",
    "<pre><code>  competitorname sugarpercent pricepercent winpercent feature   value\n",
    "  &lt;chr&gt;                 &lt;dbl&gt;        &lt;dbl&gt;      &lt;dbl&gt; &lt;chr&gt;     &lt;lgl&gt;\n",
    "1 100 Grand             0.732        0.860       67.0 chocolate TRUE \n",
    "2 3 Musketeers          0.604        0.511       67.6 chocolate TRUE \n",
    "3 One dime              0.011        0.116       32.3 chocolate FALSE\n",
    "</code></pre>"
   ]
  },
  {
   "cell_type": "code",
   "execution_count": 20,
   "metadata": {
    "dc": {
     "key": "11"
    },
    "tags": [
     "sample_code"
    ]
   },
   "outputs": [
    {
     "data": {
      "image/png": "[encoded data removed]",
      "text/plain": [
       "plot without title"
      ]
     },
     "metadata": {},
     "output_type": "display_data"
    }
   ],
   "source": [
    "# gather() the categorical variables to make them easier to plot\n",
    "candy_rankings_long <- candy_rankings %>%\n",
    "    gather(\"feature\", \"value\", chocolate:pluribus)\n",
    "\n",
    "# candy_rankings_long\n",
    "\n",
    "# # Make a bar plot showing the distribution of each variable\n",
    "ggplot(candy_rankings_long, aes(x = value)) +\n",
    "    geom_bar() +\n",
    "    facet_wrap(~feature)"
   ]
  },
  {
   "cell_type": "markdown",
   "metadata": {
    "dc": {
     "key": "18"
    },
    "deletable": false,
    "editable": false,
    "run_control": {
     "frozen": true
    },
    "tags": [
     "context"
    ]
   },
   "source": [
    "## 3. Taking a look at pricepercent\n",
    "<p>Next, we'll look at the <code>pricepercent</code> variable. This variable records the percentile rank of the candy's price against all the other candies in the dataset. Let's see which is the most expensive and which is the least expensive by making a lollipop chart. One of the most interesting aspects of this chart is that a lot of the candies share the same ranking, so it looks like quite a few of them are the same price.</p>"
   ]
  },
  {
   "cell_type": "code",
   "execution_count": 21,
   "metadata": {
    "dc": {
     "key": "18"
    },
    "tags": [
     "sample_code"
    ]
   },
   "outputs": [
    {
     "data": {
      "text/html": [
       "<table>\n",
       "<thead><tr><th scope=col>competitorname</th><th scope=col>sugarpercent</th><th scope=col>pricepercent</th><th scope=col>winpercent</th><th scope=col>feature</th><th scope=col>value</th></tr></thead>\n",
       "<tbody>\n",
       "\t<tr><td>Nik L Nip               </td><td>0.197                   </td><td>0.976                   </td><td>22.44534                </td><td>chocolate               </td><td>FALSE                   </td></tr>\n",
       "\t<tr><td>Nestle Smarties         </td><td>0.267                   </td><td>0.976                   </td><td>37.88719                </td><td>chocolate               </td><td> TRUE                   </td></tr>\n",
       "\t<tr><td>Nik L Nip               </td><td>0.197                   </td><td>0.976                   </td><td>22.44534                </td><td>fruity                  </td><td> TRUE                   </td></tr>\n",
       "\t<tr><td>Nestle Smarties         </td><td>0.267                   </td><td>0.976                   </td><td>37.88719                </td><td>fruity                  </td><td>FALSE                   </td></tr>\n",
       "\t<tr><td>Nik L Nip               </td><td>0.197                   </td><td>0.976                   </td><td>22.44534                </td><td>caramel                 </td><td>FALSE                   </td></tr>\n",
       "\t<tr><td>Nestle Smarties         </td><td>0.267                   </td><td>0.976                   </td><td>37.88719                </td><td>caramel                 </td><td>FALSE                   </td></tr>\n",
       "\t<tr><td>Nik L Nip               </td><td>0.197                   </td><td>0.976                   </td><td>22.44534                </td><td>peanutyalmondy          </td><td>FALSE                   </td></tr>\n",
       "\t<tr><td>Nestle Smarties         </td><td>0.267                   </td><td>0.976                   </td><td>37.88719                </td><td>peanutyalmondy          </td><td>FALSE                   </td></tr>\n",
       "\t<tr><td>Nik L Nip               </td><td>0.197                   </td><td>0.976                   </td><td>22.44534                </td><td>nougat                  </td><td>FALSE                   </td></tr>\n",
       "\t<tr><td>Nestle Smarties         </td><td>0.267                   </td><td>0.976                   </td><td>37.88719                </td><td>nougat                  </td><td>FALSE                   </td></tr>\n",
       "\t<tr><td>Nik L Nip               </td><td>0.197                   </td><td>0.976                   </td><td>22.44534                </td><td>crispedricewafer        </td><td>FALSE                   </td></tr>\n",
       "\t<tr><td>Nestle Smarties         </td><td>0.267                   </td><td>0.976                   </td><td>37.88719                </td><td>crispedricewafer        </td><td>FALSE                   </td></tr>\n",
       "\t<tr><td>Nik L Nip               </td><td>0.197                   </td><td>0.976                   </td><td>22.44534                </td><td>hard                    </td><td>FALSE                   </td></tr>\n",
       "\t<tr><td>Nestle Smarties         </td><td>0.267                   </td><td>0.976                   </td><td>37.88719                </td><td>hard                    </td><td>FALSE                   </td></tr>\n",
       "\t<tr><td>Nik L Nip               </td><td>0.197                   </td><td>0.976                   </td><td>22.44534                </td><td>bar                     </td><td>FALSE                   </td></tr>\n",
       "\t<tr><td>Nestle Smarties         </td><td>0.267                   </td><td>0.976                   </td><td>37.88719                </td><td>bar                     </td><td>FALSE                   </td></tr>\n",
       "\t<tr><td>Nik L Nip               </td><td>0.197                   </td><td>0.976                   </td><td>22.44534                </td><td>pluribus                </td><td> TRUE                   </td></tr>\n",
       "\t<tr><td>Nestle Smarties         </td><td>0.267                   </td><td>0.976                   </td><td>37.88719                </td><td>pluribus                </td><td> TRUE                   </td></tr>\n",
       "\t<tr><td>Ring pop                </td><td>0.732                   </td><td>0.965                   </td><td>35.29076                </td><td>chocolate               </td><td>FALSE                   </td></tr>\n",
       "\t<tr><td>Ring pop                </td><td>0.732                   </td><td>0.965                   </td><td>35.29076                </td><td>fruity                  </td><td> TRUE                   </td></tr>\n",
       "\t<tr><td>Ring pop                </td><td>0.732                   </td><td>0.965                   </td><td>35.29076                </td><td>caramel                 </td><td>FALSE                   </td></tr>\n",
       "\t<tr><td>Ring pop                </td><td>0.732                   </td><td>0.965                   </td><td>35.29076                </td><td>peanutyalmondy          </td><td>FALSE                   </td></tr>\n",
       "\t<tr><td>Ring pop                </td><td>0.732                   </td><td>0.965                   </td><td>35.29076                </td><td>nougat                  </td><td>FALSE                   </td></tr>\n",
       "\t<tr><td>Ring pop                </td><td>0.732                   </td><td>0.965                   </td><td>35.29076                </td><td>crispedricewafer        </td><td>FALSE                   </td></tr>\n",
       "\t<tr><td>Ring pop                </td><td>0.732                   </td><td>0.965                   </td><td>35.29076                </td><td>hard                    </td><td> TRUE                   </td></tr>\n",
       "\t<tr><td>Ring pop                </td><td>0.732                   </td><td>0.965                   </td><td>35.29076                </td><td>bar                     </td><td>FALSE                   </td></tr>\n",
       "\t<tr><td>Ring pop                </td><td>0.732                   </td><td>0.965                   </td><td>35.29076                </td><td>pluribus                </td><td>FALSE                   </td></tr>\n",
       "\t<tr><td>Hershey's Krackel       </td><td>0.430                   </td><td>0.918                   </td><td>62.28448                </td><td>chocolate               </td><td> TRUE                   </td></tr>\n",
       "\t<tr><td>Hershey's Milk Chocolate</td><td>0.430                   </td><td>0.918                   </td><td>56.49050                </td><td>chocolate               </td><td> TRUE                   </td></tr>\n",
       "\t<tr><td>Hershey's Special Dark  </td><td>0.430                   </td><td>0.918                   </td><td>59.23612                </td><td>chocolate               </td><td> TRUE                   </td></tr>\n",
       "\t<tr><td>⋮</td><td>⋮</td><td>⋮</td><td>⋮</td><td>⋮</td><td>⋮</td></tr>\n",
       "\t<tr><td>Dum Dums            </td><td>0.732               </td><td>0.034               </td><td>39.46056            </td><td>peanutyalmondy      </td><td>FALSE               </td></tr>\n",
       "\t<tr><td>Fruit Chews         </td><td>0.127               </td><td>0.034               </td><td>43.08892            </td><td>peanutyalmondy      </td><td>FALSE               </td></tr>\n",
       "\t<tr><td>Dum Dums            </td><td>0.732               </td><td>0.034               </td><td>39.46056            </td><td>nougat              </td><td>FALSE               </td></tr>\n",
       "\t<tr><td>Fruit Chews         </td><td>0.127               </td><td>0.034               </td><td>43.08892            </td><td>nougat              </td><td>FALSE               </td></tr>\n",
       "\t<tr><td>Dum Dums            </td><td>0.732               </td><td>0.034               </td><td>39.46056            </td><td>crispedricewafer    </td><td>FALSE               </td></tr>\n",
       "\t<tr><td>Fruit Chews         </td><td>0.127               </td><td>0.034               </td><td>43.08892            </td><td>crispedricewafer    </td><td>FALSE               </td></tr>\n",
       "\t<tr><td>Dum Dums            </td><td>0.732               </td><td>0.034               </td><td>39.46056            </td><td>hard                </td><td> TRUE               </td></tr>\n",
       "\t<tr><td>Fruit Chews         </td><td>0.127               </td><td>0.034               </td><td>43.08892            </td><td>hard                </td><td>FALSE               </td></tr>\n",
       "\t<tr><td>Dum Dums            </td><td>0.732               </td><td>0.034               </td><td>39.46056            </td><td>bar                 </td><td>FALSE               </td></tr>\n",
       "\t<tr><td>Fruit Chews         </td><td>0.127               </td><td>0.034               </td><td>43.08892            </td><td>bar                 </td><td>FALSE               </td></tr>\n",
       "\t<tr><td>Dum Dums            </td><td>0.732               </td><td>0.034               </td><td>39.46056            </td><td>pluribus            </td><td>FALSE               </td></tr>\n",
       "\t<tr><td>Fruit Chews         </td><td>0.127               </td><td>0.034               </td><td>43.08892            </td><td>pluribus            </td><td> TRUE               </td></tr>\n",
       "\t<tr><td>Pixie Sticks        </td><td>0.093               </td><td>0.023               </td><td>37.72234            </td><td>chocolate           </td><td>FALSE               </td></tr>\n",
       "\t<tr><td>Pixie Sticks        </td><td>0.093               </td><td>0.023               </td><td>37.72234            </td><td>fruity              </td><td>FALSE               </td></tr>\n",
       "\t<tr><td>Pixie Sticks        </td><td>0.093               </td><td>0.023               </td><td>37.72234            </td><td>caramel             </td><td>FALSE               </td></tr>\n",
       "\t<tr><td>Pixie Sticks        </td><td>0.093               </td><td>0.023               </td><td>37.72234            </td><td>peanutyalmondy      </td><td>FALSE               </td></tr>\n",
       "\t<tr><td>Pixie Sticks        </td><td>0.093               </td><td>0.023               </td><td>37.72234            </td><td>nougat              </td><td>FALSE               </td></tr>\n",
       "\t<tr><td>Pixie Sticks        </td><td>0.093               </td><td>0.023               </td><td>37.72234            </td><td>crispedricewafer    </td><td>FALSE               </td></tr>\n",
       "\t<tr><td>Pixie Sticks        </td><td>0.093               </td><td>0.023               </td><td>37.72234            </td><td>hard                </td><td>FALSE               </td></tr>\n",
       "\t<tr><td>Pixie Sticks        </td><td>0.093               </td><td>0.023               </td><td>37.72234            </td><td>bar                 </td><td>FALSE               </td></tr>\n",
       "\t<tr><td>Pixie Sticks        </td><td>0.093               </td><td>0.023               </td><td>37.72234            </td><td>pluribus            </td><td> TRUE               </td></tr>\n",
       "\t<tr><td>Tootsie Roll Midgies</td><td>0.174               </td><td>0.011               </td><td>45.73675            </td><td>chocolate           </td><td> TRUE               </td></tr>\n",
       "\t<tr><td>Tootsie Roll Midgies</td><td>0.174               </td><td>0.011               </td><td>45.73675            </td><td>fruity              </td><td>FALSE               </td></tr>\n",
       "\t<tr><td>Tootsie Roll Midgies</td><td>0.174               </td><td>0.011               </td><td>45.73675            </td><td>caramel             </td><td>FALSE               </td></tr>\n",
       "\t<tr><td>Tootsie Roll Midgies</td><td>0.174               </td><td>0.011               </td><td>45.73675            </td><td>peanutyalmondy      </td><td>FALSE               </td></tr>\n",
       "\t<tr><td>Tootsie Roll Midgies</td><td>0.174               </td><td>0.011               </td><td>45.73675            </td><td>nougat              </td><td>FALSE               </td></tr>\n",
       "\t<tr><td>Tootsie Roll Midgies</td><td>0.174               </td><td>0.011               </td><td>45.73675            </td><td>crispedricewafer    </td><td>FALSE               </td></tr>\n",
       "\t<tr><td>Tootsie Roll Midgies</td><td>0.174               </td><td>0.011               </td><td>45.73675            </td><td>hard                </td><td>FALSE               </td></tr>\n",
       "\t<tr><td>Tootsie Roll Midgies</td><td>0.174               </td><td>0.011               </td><td>45.73675            </td><td>bar                 </td><td>FALSE               </td></tr>\n",
       "\t<tr><td>Tootsie Roll Midgies</td><td>0.174               </td><td>0.011               </td><td>45.73675            </td><td>pluribus            </td><td> TRUE               </td></tr>\n",
       "</tbody>\n",
       "</table>\n"
      ],
      "text/latex": [
       "\\begin{tabular}{r|llllll}\n",
       " competitorname & sugarpercent & pricepercent & winpercent & feature & value\\\\\n",
       "\\hline\n",
       "\t Nik L Nip                & 0.197                    & 0.976                    & 22.44534                 & chocolate                & FALSE                   \\\\\n",
       "\t Nestle Smarties          & 0.267                    & 0.976                    & 37.88719                 & chocolate                &  TRUE                   \\\\\n",
       "\t Nik L Nip                & 0.197                    & 0.976                    & 22.44534                 & fruity                   &  TRUE                   \\\\\n",
       "\t Nestle Smarties          & 0.267                    & 0.976                    & 37.88719                 & fruity                   & FALSE                   \\\\\n",
       "\t Nik L Nip                & 0.197                    & 0.976                    & 22.44534                 & caramel                  & FALSE                   \\\\\n",
       "\t Nestle Smarties          & 0.267                    & 0.976                    & 37.88719                 & caramel                  & FALSE                   \\\\\n",
       "\t Nik L Nip                & 0.197                    & 0.976                    & 22.44534                 & peanutyalmondy           & FALSE                   \\\\\n",
       "\t Nestle Smarties          & 0.267                    & 0.976                    & 37.88719                 & peanutyalmondy           & FALSE                   \\\\\n",
       "\t Nik L Nip                & 0.197                    & 0.976                    & 22.44534                 & nougat                   & FALSE                   \\\\\n",
       "\t Nestle Smarties          & 0.267                    & 0.976                    & 37.88719                 & nougat                   & FALSE                   \\\\\n",
       "\t Nik L Nip                & 0.197                    & 0.976                    & 22.44534                 & crispedricewafer         & FALSE                   \\\\\n",
       "\t Nestle Smarties          & 0.267                    & 0.976                    & 37.88719                 & crispedricewafer         & FALSE                   \\\\\n",
       "\t Nik L Nip                & 0.197                    & 0.976                    & 22.44534                 & hard                     & FALSE                   \\\\\n",
       "\t Nestle Smarties          & 0.267                    & 0.976                    & 37.88719                 & hard                     & FALSE                   \\\\\n",
       "\t Nik L Nip                & 0.197                    & 0.976                    & 22.44534                 & bar                      & FALSE                   \\\\\n",
       "\t Nestle Smarties          & 0.267                    & 0.976                    & 37.88719                 & bar                      & FALSE                   \\\\\n",
       "\t Nik L Nip                & 0.197                    & 0.976                    & 22.44534                 & pluribus                 &  TRUE                   \\\\\n",
       "\t Nestle Smarties          & 0.267                    & 0.976                    & 37.88719                 & pluribus                 &  TRUE                   \\\\\n",
       "\t Ring pop                 & 0.732                    & 0.965                    & 35.29076                 & chocolate                & FALSE                   \\\\\n",
       "\t Ring pop                 & 0.732                    & 0.965                    & 35.29076                 & fruity                   &  TRUE                   \\\\\n",
       "\t Ring pop                 & 0.732                    & 0.965                    & 35.29076                 & caramel                  & FALSE                   \\\\\n",
       "\t Ring pop                 & 0.732                    & 0.965                    & 35.29076                 & peanutyalmondy           & FALSE                   \\\\\n",
       "\t Ring pop                 & 0.732                    & 0.965                    & 35.29076                 & nougat                   & FALSE                   \\\\\n",
       "\t Ring pop                 & 0.732                    & 0.965                    & 35.29076                 & crispedricewafer         & FALSE                   \\\\\n",
       "\t Ring pop                 & 0.732                    & 0.965                    & 35.29076                 & hard                     &  TRUE                   \\\\\n",
       "\t Ring pop                 & 0.732                    & 0.965                    & 35.29076                 & bar                      & FALSE                   \\\\\n",
       "\t Ring pop                 & 0.732                    & 0.965                    & 35.29076                 & pluribus                 & FALSE                   \\\\\n",
       "\t Hershey's Krackel        & 0.430                    & 0.918                    & 62.28448                 & chocolate                &  TRUE                   \\\\\n",
       "\t Hershey's Milk Chocolate & 0.430                    & 0.918                    & 56.49050                 & chocolate                &  TRUE                   \\\\\n",
       "\t Hershey's Special Dark   & 0.430                    & 0.918                    & 59.23612                 & chocolate                &  TRUE                   \\\\\n",
       "\t ⋮ & ⋮ & ⋮ & ⋮ & ⋮ & ⋮\\\\\n",
       "\t Dum Dums             & 0.732                & 0.034                & 39.46056             & peanutyalmondy       & FALSE               \\\\\n",
       "\t Fruit Chews          & 0.127                & 0.034                & 43.08892             & peanutyalmondy       & FALSE               \\\\\n",
       "\t Dum Dums             & 0.732                & 0.034                & 39.46056             & nougat               & FALSE               \\\\\n",
       "\t Fruit Chews          & 0.127                & 0.034                & 43.08892             & nougat               & FALSE               \\\\\n",
       "\t Dum Dums             & 0.732                & 0.034                & 39.46056             & crispedricewafer     & FALSE               \\\\\n",
       "\t Fruit Chews          & 0.127                & 0.034                & 43.08892             & crispedricewafer     & FALSE               \\\\\n",
       "\t Dum Dums             & 0.732                & 0.034                & 39.46056             & hard                 &  TRUE               \\\\\n",
       "\t Fruit Chews          & 0.127                & 0.034                & 43.08892             & hard                 & FALSE               \\\\\n",
       "\t Dum Dums             & 0.732                & 0.034                & 39.46056             & bar                  & FALSE               \\\\\n",
       "\t Fruit Chews          & 0.127                & 0.034                & 43.08892             & bar                  & FALSE               \\\\\n",
       "\t Dum Dums             & 0.732                & 0.034                & 39.46056             & pluribus             & FALSE               \\\\\n",
       "\t Fruit Chews          & 0.127                & 0.034                & 43.08892             & pluribus             &  TRUE               \\\\\n",
       "\t Pixie Sticks         & 0.093                & 0.023                & 37.72234             & chocolate            & FALSE               \\\\\n",
       "\t Pixie Sticks         & 0.093                & 0.023                & 37.72234             & fruity               & FALSE               \\\\\n",
       "\t Pixie Sticks         & 0.093                & 0.023                & 37.72234             & caramel              & FALSE               \\\\\n",
       "\t Pixie Sticks         & 0.093                & 0.023                & 37.72234             & peanutyalmondy       & FALSE               \\\\\n",
       "\t Pixie Sticks         & 0.093                & 0.023                & 37.72234             & nougat               & FALSE               \\\\\n",
       "\t Pixie Sticks         & 0.093                & 0.023                & 37.72234             & crispedricewafer     & FALSE               \\\\\n",
       "\t Pixie Sticks         & 0.093                & 0.023                & 37.72234             & hard                 & FALSE               \\\\\n",
       "\t Pixie Sticks         & 0.093                & 0.023                & 37.72234             & bar                  & FALSE               \\\\\n",
       "\t Pixie Sticks         & 0.093                & 0.023                & 37.72234             & pluribus             &  TRUE               \\\\\n",
       "\t Tootsie Roll Midgies & 0.174                & 0.011                & 45.73675             & chocolate            &  TRUE               \\\\\n",
       "\t Tootsie Roll Midgies & 0.174                & 0.011                & 45.73675             & fruity               & FALSE               \\\\\n",
       "\t Tootsie Roll Midgies & 0.174                & 0.011                & 45.73675             & caramel              & FALSE               \\\\\n",
       "\t Tootsie Roll Midgies & 0.174                & 0.011                & 45.73675             & peanutyalmondy       & FALSE               \\\\\n",
       "\t Tootsie Roll Midgies & 0.174                & 0.011                & 45.73675             & nougat               & FALSE               \\\\\n",
       "\t Tootsie Roll Midgies & 0.174                & 0.011                & 45.73675             & crispedricewafer     & FALSE               \\\\\n",
       "\t Tootsie Roll Midgies & 0.174                & 0.011                & 45.73675             & hard                 & FALSE               \\\\\n",
       "\t Tootsie Roll Midgies & 0.174                & 0.011                & 45.73675             & bar                  & FALSE               \\\\\n",
       "\t Tootsie Roll Midgies & 0.174                & 0.011                & 45.73675             & pluribus             &  TRUE               \\\\\n",
       "\\end{tabular}\n"
      ],
      "text/markdown": [
       "\n",
       "| competitorname | sugarpercent | pricepercent | winpercent | feature | value |\n",
       "|---|---|---|---|---|---|\n",
       "| Nik L Nip                | 0.197                    | 0.976                    | 22.44534                 | chocolate                | FALSE                    |\n",
       "| Nestle Smarties          | 0.267                    | 0.976                    | 37.88719                 | chocolate                |  TRUE                    |\n",
       "| Nik L Nip                | 0.197                    | 0.976                    | 22.44534                 | fruity                   |  TRUE                    |\n",
       "| Nestle Smarties          | 0.267                    | 0.976                    | 37.88719                 | fruity                   | FALSE                    |\n",
       "| Nik L Nip                | 0.197                    | 0.976                    | 22.44534                 | caramel                  | FALSE                    |\n",
       "| Nestle Smarties          | 0.267                    | 0.976                    | 37.88719                 | caramel                  | FALSE                    |\n",
       "| Nik L Nip                | 0.197                    | 0.976                    | 22.44534                 | peanutyalmondy           | FALSE                    |\n",
       "| Nestle Smarties          | 0.267                    | 0.976                    | 37.88719                 | peanutyalmondy           | FALSE                    |\n",
       "| Nik L Nip                | 0.197                    | 0.976                    | 22.44534                 | nougat                   | FALSE                    |\n",
       "| Nestle Smarties          | 0.267                    | 0.976                    | 37.88719                 | nougat                   | FALSE                    |\n",
       "| Nik L Nip                | 0.197                    | 0.976                    | 22.44534                 | crispedricewafer         | FALSE                    |\n",
       "| Nestle Smarties          | 0.267                    | 0.976                    | 37.88719                 | crispedricewafer         | FALSE                    |\n",
       "| Nik L Nip                | 0.197                    | 0.976                    | 22.44534                 | hard                     | FALSE                    |\n",
       "| Nestle Smarties          | 0.267                    | 0.976                    | 37.88719                 | hard                     | FALSE                    |\n",
       "| Nik L Nip                | 0.197                    | 0.976                    | 22.44534                 | bar                      | FALSE                    |\n",
       "| Nestle Smarties          | 0.267                    | 0.976                    | 37.88719                 | bar                      | FALSE                    |\n",
       "| Nik L Nip                | 0.197                    | 0.976                    | 22.44534                 | pluribus                 |  TRUE                    |\n",
       "| Nestle Smarties          | 0.267                    | 0.976                    | 37.88719                 | pluribus                 |  TRUE                    |\n",
       "| Ring pop                 | 0.732                    | 0.965                    | 35.29076                 | chocolate                | FALSE                    |\n",
       "| Ring pop                 | 0.732                    | 0.965                    | 35.29076                 | fruity                   |  TRUE                    |\n",
       "| Ring pop                 | 0.732                    | 0.965                    | 35.29076                 | caramel                  | FALSE                    |\n",
       "| Ring pop                 | 0.732                    | 0.965                    | 35.29076                 | peanutyalmondy           | FALSE                    |\n",
       "| Ring pop                 | 0.732                    | 0.965                    | 35.29076                 | nougat                   | FALSE                    |\n",
       "| Ring pop                 | 0.732                    | 0.965                    | 35.29076                 | crispedricewafer         | FALSE                    |\n",
       "| Ring pop                 | 0.732                    | 0.965                    | 35.29076                 | hard                     |  TRUE                    |\n",
       "| Ring pop                 | 0.732                    | 0.965                    | 35.29076                 | bar                      | FALSE                    |\n",
       "| Ring pop                 | 0.732                    | 0.965                    | 35.29076                 | pluribus                 | FALSE                    |\n",
       "| Hershey's Krackel        | 0.430                    | 0.918                    | 62.28448                 | chocolate                |  TRUE                    |\n",
       "| Hershey's Milk Chocolate | 0.430                    | 0.918                    | 56.49050                 | chocolate                |  TRUE                    |\n",
       "| Hershey's Special Dark   | 0.430                    | 0.918                    | 59.23612                 | chocolate                |  TRUE                    |\n",
       "| ⋮ | ⋮ | ⋮ | ⋮ | ⋮ | ⋮ |\n",
       "| Dum Dums             | 0.732                | 0.034                | 39.46056             | peanutyalmondy       | FALSE                |\n",
       "| Fruit Chews          | 0.127                | 0.034                | 43.08892             | peanutyalmondy       | FALSE                |\n",
       "| Dum Dums             | 0.732                | 0.034                | 39.46056             | nougat               | FALSE                |\n",
       "| Fruit Chews          | 0.127                | 0.034                | 43.08892             | nougat               | FALSE                |\n",
       "| Dum Dums             | 0.732                | 0.034                | 39.46056             | crispedricewafer     | FALSE                |\n",
       "| Fruit Chews          | 0.127                | 0.034                | 43.08892             | crispedricewafer     | FALSE                |\n",
       "| Dum Dums             | 0.732                | 0.034                | 39.46056             | hard                 |  TRUE                |\n",
       "| Fruit Chews          | 0.127                | 0.034                | 43.08892             | hard                 | FALSE                |\n",
       "| Dum Dums             | 0.732                | 0.034                | 39.46056             | bar                  | FALSE                |\n",
       "| Fruit Chews          | 0.127                | 0.034                | 43.08892             | bar                  | FALSE                |\n",
       "| Dum Dums             | 0.732                | 0.034                | 39.46056             | pluribus             | FALSE                |\n",
       "| Fruit Chews          | 0.127                | 0.034                | 43.08892             | pluribus             |  TRUE                |\n",
       "| Pixie Sticks         | 0.093                | 0.023                | 37.72234             | chocolate            | FALSE                |\n",
       "| Pixie Sticks         | 0.093                | 0.023                | 37.72234             | fruity               | FALSE                |\n",
       "| Pixie Sticks         | 0.093                | 0.023                | 37.72234             | caramel              | FALSE                |\n",
       "| Pixie Sticks         | 0.093                | 0.023                | 37.72234             | peanutyalmondy       | FALSE                |\n",
       "| Pixie Sticks         | 0.093                | 0.023                | 37.72234             | nougat               | FALSE                |\n",
       "| Pixie Sticks         | 0.093                | 0.023                | 37.72234             | crispedricewafer     | FALSE                |\n",
       "| Pixie Sticks         | 0.093                | 0.023                | 37.72234             | hard                 | FALSE                |\n",
       "| Pixie Sticks         | 0.093                | 0.023                | 37.72234             | bar                  | FALSE                |\n",
       "| Pixie Sticks         | 0.093                | 0.023                | 37.72234             | pluribus             |  TRUE                |\n",
       "| Tootsie Roll Midgies | 0.174                | 0.011                | 45.73675             | chocolate            |  TRUE                |\n",
       "| Tootsie Roll Midgies | 0.174                | 0.011                | 45.73675             | fruity               | FALSE                |\n",
       "| Tootsie Roll Midgies | 0.174                | 0.011                | 45.73675             | caramel              | FALSE                |\n",
       "| Tootsie Roll Midgies | 0.174                | 0.011                | 45.73675             | peanutyalmondy       | FALSE                |\n",
       "| Tootsie Roll Midgies | 0.174                | 0.011                | 45.73675             | nougat               | FALSE                |\n",
       "| Tootsie Roll Midgies | 0.174                | 0.011                | 45.73675             | crispedricewafer     | FALSE                |\n",
       "| Tootsie Roll Midgies | 0.174                | 0.011                | 45.73675             | hard                 | FALSE                |\n",
       "| Tootsie Roll Midgies | 0.174                | 0.011                | 45.73675             | bar                  | FALSE                |\n",
       "| Tootsie Roll Midgies | 0.174                | 0.011                | 45.73675             | pluribus             |  TRUE                |\n",
       "\n"
      ],
      "text/plain": [
       "    competitorname           sugarpercent pricepercent winpercent\n",
       "1   Nik L Nip                0.197        0.976        22.44534  \n",
       "2   Nestle Smarties          0.267        0.976        37.88719  \n",
       "3   Nik L Nip                0.197        0.976        22.44534  \n",
       "4   Nestle Smarties          0.267        0.976        37.88719  \n",
       "5   Nik L Nip                0.197        0.976        22.44534  \n",
       "6   Nestle Smarties          0.267        0.976        37.88719  \n",
       "7   Nik L Nip                0.197        0.976        22.44534  \n",
       "8   Nestle Smarties          0.267        0.976        37.88719  \n",
       "9   Nik L Nip                0.197        0.976        22.44534  \n",
       "10  Nestle Smarties          0.267        0.976        37.88719  \n",
       "11  Nik L Nip                0.197        0.976        22.44534  \n",
       "12  Nestle Smarties          0.267        0.976        37.88719  \n",
       "13  Nik L Nip                0.197        0.976        22.44534  \n",
       "14  Nestle Smarties          0.267        0.976        37.88719  \n",
       "15  Nik L Nip                0.197        0.976        22.44534  \n",
       "16  Nestle Smarties          0.267        0.976        37.88719  \n",
       "17  Nik L Nip                0.197        0.976        22.44534  \n",
       "18  Nestle Smarties          0.267        0.976        37.88719  \n",
       "19  Ring pop                 0.732        0.965        35.29076  \n",
       "20  Ring pop                 0.732        0.965        35.29076  \n",
       "21  Ring pop                 0.732        0.965        35.29076  \n",
       "22  Ring pop                 0.732        0.965        35.29076  \n",
       "23  Ring pop                 0.732        0.965        35.29076  \n",
       "24  Ring pop                 0.732        0.965        35.29076  \n",
       "25  Ring pop                 0.732        0.965        35.29076  \n",
       "26  Ring pop                 0.732        0.965        35.29076  \n",
       "27  Ring pop                 0.732        0.965        35.29076  \n",
       "28  Hershey's Krackel        0.430        0.918        62.28448  \n",
       "29  Hershey's Milk Chocolate 0.430        0.918        56.49050  \n",
       "30  Hershey's Special Dark   0.430        0.918        59.23612  \n",
       "⋮   ⋮                        ⋮            ⋮            ⋮         \n",
       "736 Dum Dums                 0.732        0.034        39.46056  \n",
       "737 Fruit Chews              0.127        0.034        43.08892  \n",
       "738 Dum Dums                 0.732        0.034        39.46056  \n",
       "739 Fruit Chews              0.127        0.034        43.08892  \n",
       "740 Dum Dums                 0.732        0.034        39.46056  \n",
       "741 Fruit Chews              0.127        0.034        43.08892  \n",
       "742 Dum Dums                 0.732        0.034        39.46056  \n",
       "743 Fruit Chews              0.127        0.034        43.08892  \n",
       "744 Dum Dums                 0.732        0.034        39.46056  \n",
       "745 Fruit Chews              0.127        0.034        43.08892  \n",
       "746 Dum Dums                 0.732        0.034        39.46056  \n",
       "747 Fruit Chews              0.127        0.034        43.08892  \n",
       "748 Pixie Sticks             0.093        0.023        37.72234  \n",
       "749 Pixie Sticks             0.093        0.023        37.72234  \n",
       "750 Pixie Sticks             0.093        0.023        37.72234  \n",
       "751 Pixie Sticks             0.093        0.023        37.72234  \n",
       "752 Pixie Sticks             0.093        0.023        37.72234  \n",
       "753 Pixie Sticks             0.093        0.023        37.72234  \n",
       "754 Pixie Sticks             0.093        0.023        37.72234  \n",
       "755 Pixie Sticks             0.093        0.023        37.72234  \n",
       "756 Pixie Sticks             0.093        0.023        37.72234  \n",
       "757 Tootsie Roll Midgies     0.174        0.011        45.73675  \n",
       "758 Tootsie Roll Midgies     0.174        0.011        45.73675  \n",
       "759 Tootsie Roll Midgies     0.174        0.011        45.73675  \n",
       "760 Tootsie Roll Midgies     0.174        0.011        45.73675  \n",
       "761 Tootsie Roll Midgies     0.174        0.011        45.73675  \n",
       "762 Tootsie Roll Midgies     0.174        0.011        45.73675  \n",
       "763 Tootsie Roll Midgies     0.174        0.011        45.73675  \n",
       "764 Tootsie Roll Midgies     0.174        0.011        45.73675  \n",
       "765 Tootsie Roll Midgies     0.174        0.011        45.73675  \n",
       "    feature          value\n",
       "1   chocolate        FALSE\n",
       "2   chocolate         TRUE\n",
       "3   fruity            TRUE\n",
       "4   fruity           FALSE\n",
       "5   caramel          FALSE\n",
       "6   caramel          FALSE\n",
       "7   peanutyalmondy   FALSE\n",
       "8   peanutyalmondy   FALSE\n",
       "9   nougat           FALSE\n",
       "10  nougat           FALSE\n",
       "11  crispedricewafer FALSE\n",
       "12  crispedricewafer FALSE\n",
       "13  hard             FALSE\n",
       "14  hard             FALSE\n",
       "15  bar              FALSE\n",
       "16  bar              FALSE\n",
       "17  pluribus          TRUE\n",
       "18  pluribus          TRUE\n",
       "19  chocolate        FALSE\n",
       "20  fruity            TRUE\n",
       "21  caramel          FALSE\n",
       "22  peanutyalmondy   FALSE\n",
       "23  nougat           FALSE\n",
       "24  crispedricewafer FALSE\n",
       "25  hard              TRUE\n",
       "26  bar              FALSE\n",
       "27  pluribus         FALSE\n",
       "28  chocolate         TRUE\n",
       "29  chocolate         TRUE\n",
       "30  chocolate         TRUE\n",
       "⋮   ⋮                ⋮    \n",
       "736 peanutyalmondy   FALSE\n",
       "737 peanutyalmondy   FALSE\n",
       "738 nougat           FALSE\n",
       "739 nougat           FALSE\n",
       "740 crispedricewafer FALSE\n",
       "741 crispedricewafer FALSE\n",
       "742 hard              TRUE\n",
       "743 hard             FALSE\n",
       "744 bar              FALSE\n",
       "745 bar              FALSE\n",
       "746 pluribus         FALSE\n",
       "747 pluribus          TRUE\n",
       "748 chocolate        FALSE\n",
       "749 fruity           FALSE\n",
       "750 caramel          FALSE\n",
       "751 peanutyalmondy   FALSE\n",
       "752 nougat           FALSE\n",
       "753 crispedricewafer FALSE\n",
       "754 hard             FALSE\n",
       "755 bar              FALSE\n",
       "756 pluribus          TRUE\n",
       "757 chocolate         TRUE\n",
       "758 fruity           FALSE\n",
       "759 caramel          FALSE\n",
       "760 peanutyalmondy   FALSE\n",
       "761 nougat           FALSE\n",
       "762 crispedricewafer FALSE\n",
       "763 hard             FALSE\n",
       "764 bar              FALSE\n",
       "765 pluribus          TRUE"
      ]
     },
     "metadata": {},
     "output_type": "display_data"
    },
    {
     "data": {
      "text/html": [
       "<table>\n",
       "<thead><tr><th scope=col>competitorname</th><th scope=col>sugarpercent</th><th scope=col>pricepercent</th><th scope=col>winpercent</th><th scope=col>feature</th><th scope=col>value</th></tr></thead>\n",
       "<tbody>\n",
       "\t<tr><td>100 Grand                 </td><td>0.732                     </td><td>0.860                     </td><td>66.97173                  </td><td>chocolate                 </td><td> TRUE                     </td></tr>\n",
       "\t<tr><td>3 Musketeers              </td><td>0.604                     </td><td>0.511                     </td><td>67.60294                  </td><td>chocolate                 </td><td> TRUE                     </td></tr>\n",
       "\t<tr><td>One dime                  </td><td>0.011                     </td><td>0.116                     </td><td>32.26109                  </td><td>chocolate                 </td><td>FALSE                     </td></tr>\n",
       "\t<tr><td>One quarter               </td><td>0.011                     </td><td>0.511                     </td><td>46.11650                  </td><td>chocolate                 </td><td>FALSE                     </td></tr>\n",
       "\t<tr><td>Air Heads                 </td><td>0.906                     </td><td>0.511                     </td><td>52.34146                  </td><td>chocolate                 </td><td>FALSE                     </td></tr>\n",
       "\t<tr><td>Almond Joy                </td><td>0.465                     </td><td>0.767                     </td><td>50.34755                  </td><td>chocolate                 </td><td> TRUE                     </td></tr>\n",
       "\t<tr><td>Baby Ruth                 </td><td>0.604                     </td><td>0.767                     </td><td>56.91455                  </td><td>chocolate                 </td><td> TRUE                     </td></tr>\n",
       "\t<tr><td>Boston Baked Beans        </td><td>0.313                     </td><td>0.511                     </td><td>23.41782                  </td><td>chocolate                 </td><td>FALSE                     </td></tr>\n",
       "\t<tr><td>Candy Corn                </td><td>0.906                     </td><td>0.325                     </td><td>38.01096                  </td><td>chocolate                 </td><td>FALSE                     </td></tr>\n",
       "\t<tr><td>Caramel Apple Pops        </td><td>0.604                     </td><td>0.325                     </td><td>34.51768                  </td><td>chocolate                 </td><td>FALSE                     </td></tr>\n",
       "\t<tr><td>Charleston Chew           </td><td>0.604                     </td><td>0.511                     </td><td>38.97504                  </td><td>chocolate                 </td><td> TRUE                     </td></tr>\n",
       "\t<tr><td>Chewey Lemonhead Fruit Mix</td><td>0.732                     </td><td>0.511                     </td><td>36.01763                  </td><td>chocolate                 </td><td>FALSE                     </td></tr>\n",
       "\t<tr><td>Chiclets                  </td><td>0.046                     </td><td>0.325                     </td><td>24.52499                  </td><td>chocolate                 </td><td>FALSE                     </td></tr>\n",
       "\t<tr><td>Dots                      </td><td>0.732                     </td><td>0.511                     </td><td>42.27208                  </td><td>chocolate                 </td><td>FALSE                     </td></tr>\n",
       "\t<tr><td>Dum Dums                  </td><td>0.732                     </td><td>0.034                     </td><td>39.46056                  </td><td>chocolate                 </td><td>FALSE                     </td></tr>\n",
       "\t<tr><td>Fruit Chews               </td><td>0.127                     </td><td>0.034                     </td><td>43.08892                  </td><td>chocolate                 </td><td>FALSE                     </td></tr>\n",
       "\t<tr><td>Fun Dip                   </td><td>0.732                     </td><td>0.325                     </td><td>39.18550                  </td><td>chocolate                 </td><td>FALSE                     </td></tr>\n",
       "\t<tr><td>Gobstopper                </td><td>0.906                     </td><td>0.453                     </td><td>46.78335                  </td><td>chocolate                 </td><td>FALSE                     </td></tr>\n",
       "\t<tr><td>Haribo Gold Bears         </td><td>0.465                     </td><td>0.465                     </td><td>57.11974                  </td><td>chocolate                 </td><td>FALSE                     </td></tr>\n",
       "\t<tr><td>Haribo Happy Cola         </td><td>0.465                     </td><td>0.465                     </td><td>34.15896                  </td><td>chocolate                 </td><td>FALSE                     </td></tr>\n",
       "\t<tr><td>Haribo Sour Bears         </td><td>0.465                     </td><td>0.465                     </td><td>51.41243                  </td><td>chocolate                 </td><td>FALSE                     </td></tr>\n",
       "\t<tr><td>Haribo Twin Snakes        </td><td>0.465                     </td><td>0.465                     </td><td>42.17877                  </td><td>chocolate                 </td><td>FALSE                     </td></tr>\n",
       "\t<tr><td>Hershey's Kisses          </td><td>0.127                     </td><td>0.093                     </td><td>55.37545                  </td><td>chocolate                 </td><td> TRUE                     </td></tr>\n",
       "\t<tr><td>Hershey's Krackel         </td><td>0.430                     </td><td>0.918                     </td><td>62.28448                  </td><td>chocolate                 </td><td> TRUE                     </td></tr>\n",
       "\t<tr><td>Hershey's Milk Chocolate  </td><td>0.430                     </td><td>0.918                     </td><td>56.49050                  </td><td>chocolate                 </td><td> TRUE                     </td></tr>\n",
       "\t<tr><td>Hershey's Special Dark    </td><td>0.430                     </td><td>0.918                     </td><td>59.23612                  </td><td>chocolate                 </td><td> TRUE                     </td></tr>\n",
       "\t<tr><td>Jawbusters                </td><td>0.093                     </td><td>0.511                     </td><td>28.12744                  </td><td>chocolate                 </td><td>FALSE                     </td></tr>\n",
       "\t<tr><td>Junior Mints              </td><td>0.197                     </td><td>0.511                     </td><td>57.21925                  </td><td>chocolate                 </td><td> TRUE                     </td></tr>\n",
       "\t<tr><td>Kit Kat                   </td><td>0.313                     </td><td>0.511                     </td><td>76.76860                  </td><td>chocolate                 </td><td> TRUE                     </td></tr>\n",
       "\t<tr><td>Laffy Taffy               </td><td>0.220                     </td><td>0.116                     </td><td>41.38956                  </td><td>chocolate                 </td><td>FALSE                     </td></tr>\n",
       "\t<tr><td>⋮</td><td>⋮</td><td>⋮</td><td>⋮</td><td>⋮</td><td>⋮</td></tr>\n",
       "\t<tr><td>Ring pop                  </td><td>0.732                     </td><td>0.965                     </td><td>35.29076                  </td><td>pluribus                  </td><td>FALSE                     </td></tr>\n",
       "\t<tr><td>Rolo                      </td><td>0.860                     </td><td>0.860                     </td><td>65.71629                  </td><td>pluribus                  </td><td> TRUE                     </td></tr>\n",
       "\t<tr><td>Root Beer Barrels         </td><td>0.732                     </td><td>0.069                     </td><td>29.70369                  </td><td>pluribus                  </td><td> TRUE                     </td></tr>\n",
       "\t<tr><td>Runts                     </td><td>0.872                     </td><td>0.279                     </td><td>42.84914                  </td><td>pluribus                  </td><td> TRUE                     </td></tr>\n",
       "\t<tr><td>Sixlets                   </td><td>0.220                     </td><td>0.081                     </td><td>34.72200                  </td><td>pluribus                  </td><td> TRUE                     </td></tr>\n",
       "\t<tr><td>Skittles original         </td><td>0.941                     </td><td>0.220                     </td><td>63.08514                  </td><td>pluribus                  </td><td> TRUE                     </td></tr>\n",
       "\t<tr><td>Skittles wildberry        </td><td>0.941                     </td><td>0.220                     </td><td>55.10370                  </td><td>pluribus                  </td><td> TRUE                     </td></tr>\n",
       "\t<tr><td>Nestle Smarties           </td><td>0.267                     </td><td>0.976                     </td><td>37.88719                  </td><td>pluribus                  </td><td> TRUE                     </td></tr>\n",
       "\t<tr><td>Smarties candy            </td><td>0.267                     </td><td>0.116                     </td><td>45.99583                  </td><td>pluribus                  </td><td> TRUE                     </td></tr>\n",
       "\t<tr><td>Snickers                  </td><td>0.546                     </td><td>0.651                     </td><td>76.67378                  </td><td>pluribus                  </td><td>FALSE                     </td></tr>\n",
       "\t<tr><td>Snickers Crisper          </td><td>0.604                     </td><td>0.651                     </td><td>59.52925                  </td><td>pluribus                  </td><td>FALSE                     </td></tr>\n",
       "\t<tr><td>Sour Patch Kids           </td><td>0.069                     </td><td>0.116                     </td><td>59.86400                  </td><td>pluribus                  </td><td> TRUE                     </td></tr>\n",
       "\t<tr><td>Sour Patch Tricksters     </td><td>0.069                     </td><td>0.116                     </td><td>52.82595                  </td><td>pluribus                  </td><td> TRUE                     </td></tr>\n",
       "\t<tr><td>Starburst                 </td><td>0.151                     </td><td>0.220                     </td><td>67.03763                  </td><td>pluribus                  </td><td> TRUE                     </td></tr>\n",
       "\t<tr><td>Strawberry bon bons       </td><td>0.569                     </td><td>0.058                     </td><td>34.57899                  </td><td>pluribus                  </td><td> TRUE                     </td></tr>\n",
       "\t<tr><td>Sugar Babies              </td><td>0.965                     </td><td>0.767                     </td><td>33.43755                  </td><td>pluribus                  </td><td> TRUE                     </td></tr>\n",
       "\t<tr><td>Sugar Daddy               </td><td>0.418                     </td><td>0.325                     </td><td>32.23100                  </td><td>pluribus                  </td><td>FALSE                     </td></tr>\n",
       "\t<tr><td>Super Bubble              </td><td>0.162                     </td><td>0.116                     </td><td>27.30386                  </td><td>pluribus                  </td><td>FALSE                     </td></tr>\n",
       "\t<tr><td>Swedish Fish              </td><td>0.604                     </td><td>0.755                     </td><td>54.86111                  </td><td>pluribus                  </td><td> TRUE                     </td></tr>\n",
       "\t<tr><td>Tootsie Pop               </td><td>0.604                     </td><td>0.325                     </td><td>48.98265                  </td><td>pluribus                  </td><td>FALSE                     </td></tr>\n",
       "\t<tr><td>Tootsie Roll Juniors      </td><td>0.313                     </td><td>0.511                     </td><td>43.06890                  </td><td>pluribus                  </td><td>FALSE                     </td></tr>\n",
       "\t<tr><td>Tootsie Roll Midgies      </td><td>0.174                     </td><td>0.011                     </td><td>45.73675                  </td><td>pluribus                  </td><td> TRUE                     </td></tr>\n",
       "\t<tr><td>Tootsie Roll Snack Bars   </td><td>0.465                     </td><td>0.325                     </td><td>49.65350                  </td><td>pluribus                  </td><td>FALSE                     </td></tr>\n",
       "\t<tr><td>Trolli Sour Bites         </td><td>0.313                     </td><td>0.255                     </td><td>47.17323                  </td><td>pluribus                  </td><td> TRUE                     </td></tr>\n",
       "\t<tr><td>Twix                      </td><td>0.546                     </td><td>0.906                     </td><td>81.64291                  </td><td>pluribus                  </td><td>FALSE                     </td></tr>\n",
       "\t<tr><td>Twizzlers                 </td><td>0.220                     </td><td>0.116                     </td><td>45.46628                  </td><td>pluribus                  </td><td>FALSE                     </td></tr>\n",
       "\t<tr><td>Warheads                  </td><td>0.093                     </td><td>0.116                     </td><td>39.01190                  </td><td>pluribus                  </td><td>FALSE                     </td></tr>\n",
       "\t<tr><td>Welch's Fruit Snacks      </td><td>0.313                     </td><td>0.313                     </td><td>44.37552                  </td><td>pluribus                  </td><td> TRUE                     </td></tr>\n",
       "\t<tr><td>Werther's Original Caramel</td><td>0.186                     </td><td>0.267                     </td><td>41.90431                  </td><td>pluribus                  </td><td>FALSE                     </td></tr>\n",
       "\t<tr><td>Whoppers                  </td><td>0.872                     </td><td>0.848                     </td><td>49.52411                  </td><td>pluribus                  </td><td> TRUE                     </td></tr>\n",
       "</tbody>\n",
       "</table>\n"
      ],
      "text/latex": [
       "\\begin{tabular}{r|llllll}\n",
       " competitorname & sugarpercent & pricepercent & winpercent & feature & value\\\\\n",
       "\\hline\n",
       "\t 100 Grand                  & 0.732                      & 0.860                      & 66.97173                   & chocolate                  &  TRUE                     \\\\\n",
       "\t 3 Musketeers               & 0.604                      & 0.511                      & 67.60294                   & chocolate                  &  TRUE                     \\\\\n",
       "\t One dime                   & 0.011                      & 0.116                      & 32.26109                   & chocolate                  & FALSE                     \\\\\n",
       "\t One quarter                & 0.011                      & 0.511                      & 46.11650                   & chocolate                  & FALSE                     \\\\\n",
       "\t Air Heads                  & 0.906                      & 0.511                      & 52.34146                   & chocolate                  & FALSE                     \\\\\n",
       "\t Almond Joy                 & 0.465                      & 0.767                      & 50.34755                   & chocolate                  &  TRUE                     \\\\\n",
       "\t Baby Ruth                  & 0.604                      & 0.767                      & 56.91455                   & chocolate                  &  TRUE                     \\\\\n",
       "\t Boston Baked Beans         & 0.313                      & 0.511                      & 23.41782                   & chocolate                  & FALSE                     \\\\\n",
       "\t Candy Corn                 & 0.906                      & 0.325                      & 38.01096                   & chocolate                  & FALSE                     \\\\\n",
       "\t Caramel Apple Pops         & 0.604                      & 0.325                      & 34.51768                   & chocolate                  & FALSE                     \\\\\n",
       "\t Charleston Chew            & 0.604                      & 0.511                      & 38.97504                   & chocolate                  &  TRUE                     \\\\\n",
       "\t Chewey Lemonhead Fruit Mix & 0.732                      & 0.511                      & 36.01763                   & chocolate                  & FALSE                     \\\\\n",
       "\t Chiclets                   & 0.046                      & 0.325                      & 24.52499                   & chocolate                  & FALSE                     \\\\\n",
       "\t Dots                       & 0.732                      & 0.511                      & 42.27208                   & chocolate                  & FALSE                     \\\\\n",
       "\t Dum Dums                   & 0.732                      & 0.034                      & 39.46056                   & chocolate                  & FALSE                     \\\\\n",
       "\t Fruit Chews                & 0.127                      & 0.034                      & 43.08892                   & chocolate                  & FALSE                     \\\\\n",
       "\t Fun Dip                    & 0.732                      & 0.325                      & 39.18550                   & chocolate                  & FALSE                     \\\\\n",
       "\t Gobstopper                 & 0.906                      & 0.453                      & 46.78335                   & chocolate                  & FALSE                     \\\\\n",
       "\t Haribo Gold Bears          & 0.465                      & 0.465                      & 57.11974                   & chocolate                  & FALSE                     \\\\\n",
       "\t Haribo Happy Cola          & 0.465                      & 0.465                      & 34.15896                   & chocolate                  & FALSE                     \\\\\n",
       "\t Haribo Sour Bears          & 0.465                      & 0.465                      & 51.41243                   & chocolate                  & FALSE                     \\\\\n",
       "\t Haribo Twin Snakes         & 0.465                      & 0.465                      & 42.17877                   & chocolate                  & FALSE                     \\\\\n",
       "\t Hershey's Kisses           & 0.127                      & 0.093                      & 55.37545                   & chocolate                  &  TRUE                     \\\\\n",
       "\t Hershey's Krackel          & 0.430                      & 0.918                      & 62.28448                   & chocolate                  &  TRUE                     \\\\\n",
       "\t Hershey's Milk Chocolate   & 0.430                      & 0.918                      & 56.49050                   & chocolate                  &  TRUE                     \\\\\n",
       "\t Hershey's Special Dark     & 0.430                      & 0.918                      & 59.23612                   & chocolate                  &  TRUE                     \\\\\n",
       "\t Jawbusters                 & 0.093                      & 0.511                      & 28.12744                   & chocolate                  & FALSE                     \\\\\n",
       "\t Junior Mints               & 0.197                      & 0.511                      & 57.21925                   & chocolate                  &  TRUE                     \\\\\n",
       "\t Kit Kat                    & 0.313                      & 0.511                      & 76.76860                   & chocolate                  &  TRUE                     \\\\\n",
       "\t Laffy Taffy                & 0.220                      & 0.116                      & 41.38956                   & chocolate                  & FALSE                     \\\\\n",
       "\t ⋮ & ⋮ & ⋮ & ⋮ & ⋮ & ⋮\\\\\n",
       "\t Ring pop                   & 0.732                      & 0.965                      & 35.29076                   & pluribus                   & FALSE                     \\\\\n",
       "\t Rolo                       & 0.860                      & 0.860                      & 65.71629                   & pluribus                   &  TRUE                     \\\\\n",
       "\t Root Beer Barrels          & 0.732                      & 0.069                      & 29.70369                   & pluribus                   &  TRUE                     \\\\\n",
       "\t Runts                      & 0.872                      & 0.279                      & 42.84914                   & pluribus                   &  TRUE                     \\\\\n",
       "\t Sixlets                    & 0.220                      & 0.081                      & 34.72200                   & pluribus                   &  TRUE                     \\\\\n",
       "\t Skittles original          & 0.941                      & 0.220                      & 63.08514                   & pluribus                   &  TRUE                     \\\\\n",
       "\t Skittles wildberry         & 0.941                      & 0.220                      & 55.10370                   & pluribus                   &  TRUE                     \\\\\n",
       "\t Nestle Smarties            & 0.267                      & 0.976                      & 37.88719                   & pluribus                   &  TRUE                     \\\\\n",
       "\t Smarties candy             & 0.267                      & 0.116                      & 45.99583                   & pluribus                   &  TRUE                     \\\\\n",
       "\t Snickers                   & 0.546                      & 0.651                      & 76.67378                   & pluribus                   & FALSE                     \\\\\n",
       "\t Snickers Crisper           & 0.604                      & 0.651                      & 59.52925                   & pluribus                   & FALSE                     \\\\\n",
       "\t Sour Patch Kids            & 0.069                      & 0.116                      & 59.86400                   & pluribus                   &  TRUE                     \\\\\n",
       "\t Sour Patch Tricksters      & 0.069                      & 0.116                      & 52.82595                   & pluribus                   &  TRUE                     \\\\\n",
       "\t Starburst                  & 0.151                      & 0.220                      & 67.03763                   & pluribus                   &  TRUE                     \\\\\n",
       "\t Strawberry bon bons        & 0.569                      & 0.058                      & 34.57899                   & pluribus                   &  TRUE                     \\\\\n",
       "\t Sugar Babies               & 0.965                      & 0.767                      & 33.43755                   & pluribus                   &  TRUE                     \\\\\n",
       "\t Sugar Daddy                & 0.418                      & 0.325                      & 32.23100                   & pluribus                   & FALSE                     \\\\\n",
       "\t Super Bubble               & 0.162                      & 0.116                      & 27.30386                   & pluribus                   & FALSE                     \\\\\n",
       "\t Swedish Fish               & 0.604                      & 0.755                      & 54.86111                   & pluribus                   &  TRUE                     \\\\\n",
       "\t Tootsie Pop                & 0.604                      & 0.325                      & 48.98265                   & pluribus                   & FALSE                     \\\\\n",
       "\t Tootsie Roll Juniors       & 0.313                      & 0.511                      & 43.06890                   & pluribus                   & FALSE                     \\\\\n",
       "\t Tootsie Roll Midgies       & 0.174                      & 0.011                      & 45.73675                   & pluribus                   &  TRUE                     \\\\\n",
       "\t Tootsie Roll Snack Bars    & 0.465                      & 0.325                      & 49.65350                   & pluribus                   & FALSE                     \\\\\n",
       "\t Trolli Sour Bites          & 0.313                      & 0.255                      & 47.17323                   & pluribus                   &  TRUE                     \\\\\n",
       "\t Twix                       & 0.546                      & 0.906                      & 81.64291                   & pluribus                   & FALSE                     \\\\\n",
       "\t Twizzlers                  & 0.220                      & 0.116                      & 45.46628                   & pluribus                   & FALSE                     \\\\\n",
       "\t Warheads                   & 0.093                      & 0.116                      & 39.01190                   & pluribus                   & FALSE                     \\\\\n",
       "\t Welch's Fruit Snacks       & 0.313                      & 0.313                      & 44.37552                   & pluribus                   &  TRUE                     \\\\\n",
       "\t Werther's Original Caramel & 0.186                      & 0.267                      & 41.90431                   & pluribus                   & FALSE                     \\\\\n",
       "\t Whoppers                   & 0.872                      & 0.848                      & 49.52411                   & pluribus                   &  TRUE                     \\\\\n",
       "\\end{tabular}\n"
      ],
      "text/markdown": [
       "\n",
       "| competitorname | sugarpercent | pricepercent | winpercent | feature | value |\n",
       "|---|---|---|---|---|---|\n",
       "| 100 Grand                  | 0.732                      | 0.860                      | 66.97173                   | chocolate                  |  TRUE                      |\n",
       "| 3 Musketeers               | 0.604                      | 0.511                      | 67.60294                   | chocolate                  |  TRUE                      |\n",
       "| One dime                   | 0.011                      | 0.116                      | 32.26109                   | chocolate                  | FALSE                      |\n",
       "| One quarter                | 0.011                      | 0.511                      | 46.11650                   | chocolate                  | FALSE                      |\n",
       "| Air Heads                  | 0.906                      | 0.511                      | 52.34146                   | chocolate                  | FALSE                      |\n",
       "| Almond Joy                 | 0.465                      | 0.767                      | 50.34755                   | chocolate                  |  TRUE                      |\n",
       "| Baby Ruth                  | 0.604                      | 0.767                      | 56.91455                   | chocolate                  |  TRUE                      |\n",
       "| Boston Baked Beans         | 0.313                      | 0.511                      | 23.41782                   | chocolate                  | FALSE                      |\n",
       "| Candy Corn                 | 0.906                      | 0.325                      | 38.01096                   | chocolate                  | FALSE                      |\n",
       "| Caramel Apple Pops         | 0.604                      | 0.325                      | 34.51768                   | chocolate                  | FALSE                      |\n",
       "| Charleston Chew            | 0.604                      | 0.511                      | 38.97504                   | chocolate                  |  TRUE                      |\n",
       "| Chewey Lemonhead Fruit Mix | 0.732                      | 0.511                      | 36.01763                   | chocolate                  | FALSE                      |\n",
       "| Chiclets                   | 0.046                      | 0.325                      | 24.52499                   | chocolate                  | FALSE                      |\n",
       "| Dots                       | 0.732                      | 0.511                      | 42.27208                   | chocolate                  | FALSE                      |\n",
       "| Dum Dums                   | 0.732                      | 0.034                      | 39.46056                   | chocolate                  | FALSE                      |\n",
       "| Fruit Chews                | 0.127                      | 0.034                      | 43.08892                   | chocolate                  | FALSE                      |\n",
       "| Fun Dip                    | 0.732                      | 0.325                      | 39.18550                   | chocolate                  | FALSE                      |\n",
       "| Gobstopper                 | 0.906                      | 0.453                      | 46.78335                   | chocolate                  | FALSE                      |\n",
       "| Haribo Gold Bears          | 0.465                      | 0.465                      | 57.11974                   | chocolate                  | FALSE                      |\n",
       "| Haribo Happy Cola          | 0.465                      | 0.465                      | 34.15896                   | chocolate                  | FALSE                      |\n",
       "| Haribo Sour Bears          | 0.465                      | 0.465                      | 51.41243                   | chocolate                  | FALSE                      |\n",
       "| Haribo Twin Snakes         | 0.465                      | 0.465                      | 42.17877                   | chocolate                  | FALSE                      |\n",
       "| Hershey's Kisses           | 0.127                      | 0.093                      | 55.37545                   | chocolate                  |  TRUE                      |\n",
       "| Hershey's Krackel          | 0.430                      | 0.918                      | 62.28448                   | chocolate                  |  TRUE                      |\n",
       "| Hershey's Milk Chocolate   | 0.430                      | 0.918                      | 56.49050                   | chocolate                  |  TRUE                      |\n",
       "| Hershey's Special Dark     | 0.430                      | 0.918                      | 59.23612                   | chocolate                  |  TRUE                      |\n",
       "| Jawbusters                 | 0.093                      | 0.511                      | 28.12744                   | chocolate                  | FALSE                      |\n",
       "| Junior Mints               | 0.197                      | 0.511                      | 57.21925                   | chocolate                  |  TRUE                      |\n",
       "| Kit Kat                    | 0.313                      | 0.511                      | 76.76860                   | chocolate                  |  TRUE                      |\n",
       "| Laffy Taffy                | 0.220                      | 0.116                      | 41.38956                   | chocolate                  | FALSE                      |\n",
       "| ⋮ | ⋮ | ⋮ | ⋮ | ⋮ | ⋮ |\n",
       "| Ring pop                   | 0.732                      | 0.965                      | 35.29076                   | pluribus                   | FALSE                      |\n",
       "| Rolo                       | 0.860                      | 0.860                      | 65.71629                   | pluribus                   |  TRUE                      |\n",
       "| Root Beer Barrels          | 0.732                      | 0.069                      | 29.70369                   | pluribus                   |  TRUE                      |\n",
       "| Runts                      | 0.872                      | 0.279                      | 42.84914                   | pluribus                   |  TRUE                      |\n",
       "| Sixlets                    | 0.220                      | 0.081                      | 34.72200                   | pluribus                   |  TRUE                      |\n",
       "| Skittles original          | 0.941                      | 0.220                      | 63.08514                   | pluribus                   |  TRUE                      |\n",
       "| Skittles wildberry         | 0.941                      | 0.220                      | 55.10370                   | pluribus                   |  TRUE                      |\n",
       "| Nestle Smarties            | 0.267                      | 0.976                      | 37.88719                   | pluribus                   |  TRUE                      |\n",
       "| Smarties candy             | 0.267                      | 0.116                      | 45.99583                   | pluribus                   |  TRUE                      |\n",
       "| Snickers                   | 0.546                      | 0.651                      | 76.67378                   | pluribus                   | FALSE                      |\n",
       "| Snickers Crisper           | 0.604                      | 0.651                      | 59.52925                   | pluribus                   | FALSE                      |\n",
       "| Sour Patch Kids            | 0.069                      | 0.116                      | 59.86400                   | pluribus                   |  TRUE                      |\n",
       "| Sour Patch Tricksters      | 0.069                      | 0.116                      | 52.82595                   | pluribus                   |  TRUE                      |\n",
       "| Starburst                  | 0.151                      | 0.220                      | 67.03763                   | pluribus                   |  TRUE                      |\n",
       "| Strawberry bon bons        | 0.569                      | 0.058                      | 34.57899                   | pluribus                   |  TRUE                      |\n",
       "| Sugar Babies               | 0.965                      | 0.767                      | 33.43755                   | pluribus                   |  TRUE                      |\n",
       "| Sugar Daddy                | 0.418                      | 0.325                      | 32.23100                   | pluribus                   | FALSE                      |\n",
       "| Super Bubble               | 0.162                      | 0.116                      | 27.30386                   | pluribus                   | FALSE                      |\n",
       "| Swedish Fish               | 0.604                      | 0.755                      | 54.86111                   | pluribus                   |  TRUE                      |\n",
       "| Tootsie Pop                | 0.604                      | 0.325                      | 48.98265                   | pluribus                   | FALSE                      |\n",
       "| Tootsie Roll Juniors       | 0.313                      | 0.511                      | 43.06890                   | pluribus                   | FALSE                      |\n",
       "| Tootsie Roll Midgies       | 0.174                      | 0.011                      | 45.73675                   | pluribus                   |  TRUE                      |\n",
       "| Tootsie Roll Snack Bars    | 0.465                      | 0.325                      | 49.65350                   | pluribus                   | FALSE                      |\n",
       "| Trolli Sour Bites          | 0.313                      | 0.255                      | 47.17323                   | pluribus                   |  TRUE                      |\n",
       "| Twix                       | 0.546                      | 0.906                      | 81.64291                   | pluribus                   | FALSE                      |\n",
       "| Twizzlers                  | 0.220                      | 0.116                      | 45.46628                   | pluribus                   | FALSE                      |\n",
       "| Warheads                   | 0.093                      | 0.116                      | 39.01190                   | pluribus                   | FALSE                      |\n",
       "| Welch's Fruit Snacks       | 0.313                      | 0.313                      | 44.37552                   | pluribus                   |  TRUE                      |\n",
       "| Werther's Original Caramel | 0.186                      | 0.267                      | 41.90431                   | pluribus                   | FALSE                      |\n",
       "| Whoppers                   | 0.872                      | 0.848                      | 49.52411                   | pluribus                   |  TRUE                      |\n",
       "\n"
      ],
      "text/plain": [
       "    competitorname             sugarpercent pricepercent winpercent feature  \n",
       "1   100 Grand                  0.732        0.860        66.97173   chocolate\n",
       "2   3 Musketeers               0.604        0.511        67.60294   chocolate\n",
       "3   One dime                   0.011        0.116        32.26109   chocolate\n",
       "4   One quarter                0.011        0.511        46.11650   chocolate\n",
       "5   Air Heads                  0.906        0.511        52.34146   chocolate\n",
       "6   Almond Joy                 0.465        0.767        50.34755   chocolate\n",
       "7   Baby Ruth                  0.604        0.767        56.91455   chocolate\n",
       "8   Boston Baked Beans         0.313        0.511        23.41782   chocolate\n",
       "9   Candy Corn                 0.906        0.325        38.01096   chocolate\n",
       "10  Caramel Apple Pops         0.604        0.325        34.51768   chocolate\n",
       "11  Charleston Chew            0.604        0.511        38.97504   chocolate\n",
       "12  Chewey Lemonhead Fruit Mix 0.732        0.511        36.01763   chocolate\n",
       "13  Chiclets                   0.046        0.325        24.52499   chocolate\n",
       "14  Dots                       0.732        0.511        42.27208   chocolate\n",
       "15  Dum Dums                   0.732        0.034        39.46056   chocolate\n",
       "16  Fruit Chews                0.127        0.034        43.08892   chocolate\n",
       "17  Fun Dip                    0.732        0.325        39.18550   chocolate\n",
       "18  Gobstopper                 0.906        0.453        46.78335   chocolate\n",
       "19  Haribo Gold Bears          0.465        0.465        57.11974   chocolate\n",
       "20  Haribo Happy Cola          0.465        0.465        34.15896   chocolate\n",
       "21  Haribo Sour Bears          0.465        0.465        51.41243   chocolate\n",
       "22  Haribo Twin Snakes         0.465        0.465        42.17877   chocolate\n",
       "23  Hershey's Kisses           0.127        0.093        55.37545   chocolate\n",
       "24  Hershey's Krackel          0.430        0.918        62.28448   chocolate\n",
       "25  Hershey's Milk Chocolate   0.430        0.918        56.49050   chocolate\n",
       "26  Hershey's Special Dark     0.430        0.918        59.23612   chocolate\n",
       "27  Jawbusters                 0.093        0.511        28.12744   chocolate\n",
       "28  Junior Mints               0.197        0.511        57.21925   chocolate\n",
       "29  Kit Kat                    0.313        0.511        76.76860   chocolate\n",
       "30  Laffy Taffy                0.220        0.116        41.38956   chocolate\n",
       "⋮   ⋮                          ⋮            ⋮            ⋮          ⋮        \n",
       "736 Ring pop                   0.732        0.965        35.29076   pluribus \n",
       "737 Rolo                       0.860        0.860        65.71629   pluribus \n",
       "738 Root Beer Barrels          0.732        0.069        29.70369   pluribus \n",
       "739 Runts                      0.872        0.279        42.84914   pluribus \n",
       "740 Sixlets                    0.220        0.081        34.72200   pluribus \n",
       "741 Skittles original          0.941        0.220        63.08514   pluribus \n",
       "742 Skittles wildberry         0.941        0.220        55.10370   pluribus \n",
       "743 Nestle Smarties            0.267        0.976        37.88719   pluribus \n",
       "744 Smarties candy             0.267        0.116        45.99583   pluribus \n",
       "745 Snickers                   0.546        0.651        76.67378   pluribus \n",
       "746 Snickers Crisper           0.604        0.651        59.52925   pluribus \n",
       "747 Sour Patch Kids            0.069        0.116        59.86400   pluribus \n",
       "748 Sour Patch Tricksters      0.069        0.116        52.82595   pluribus \n",
       "749 Starburst                  0.151        0.220        67.03763   pluribus \n",
       "750 Strawberry bon bons        0.569        0.058        34.57899   pluribus \n",
       "751 Sugar Babies               0.965        0.767        33.43755   pluribus \n",
       "752 Sugar Daddy                0.418        0.325        32.23100   pluribus \n",
       "753 Super Bubble               0.162        0.116        27.30386   pluribus \n",
       "754 Swedish Fish               0.604        0.755        54.86111   pluribus \n",
       "755 Tootsie Pop                0.604        0.325        48.98265   pluribus \n",
       "756 Tootsie Roll Juniors       0.313        0.511        43.06890   pluribus \n",
       "757 Tootsie Roll Midgies       0.174        0.011        45.73675   pluribus \n",
       "758 Tootsie Roll Snack Bars    0.465        0.325        49.65350   pluribus \n",
       "759 Trolli Sour Bites          0.313        0.255        47.17323   pluribus \n",
       "760 Twix                       0.546        0.906        81.64291   pluribus \n",
       "761 Twizzlers                  0.220        0.116        45.46628   pluribus \n",
       "762 Warheads                   0.093        0.116        39.01190   pluribus \n",
       "763 Welch's Fruit Snacks       0.313        0.313        44.37552   pluribus \n",
       "764 Werther's Original Caramel 0.186        0.267        41.90431   pluribus \n",
       "765 Whoppers                   0.872        0.848        49.52411   pluribus \n",
       "    value\n",
       "1    TRUE\n",
       "2    TRUE\n",
       "3   FALSE\n",
       "4   FALSE\n",
       "5   FALSE\n",
       "6    TRUE\n",
       "7    TRUE\n",
       "8   FALSE\n",
       "9   FALSE\n",
       "10  FALSE\n",
       "11   TRUE\n",
       "12  FALSE\n",
       "13  FALSE\n",
       "14  FALSE\n",
       "15  FALSE\n",
       "16  FALSE\n",
       "17  FALSE\n",
       "18  FALSE\n",
       "19  FALSE\n",
       "20  FALSE\n",
       "21  FALSE\n",
       "22  FALSE\n",
       "23   TRUE\n",
       "24   TRUE\n",
       "25   TRUE\n",
       "26   TRUE\n",
       "27  FALSE\n",
       "28   TRUE\n",
       "29   TRUE\n",
       "30  FALSE\n",
       "⋮   ⋮    \n",
       "736 FALSE\n",
       "737  TRUE\n",
       "738  TRUE\n",
       "739  TRUE\n",
       "740  TRUE\n",
       "741  TRUE\n",
       "742  TRUE\n",
       "743  TRUE\n",
       "744  TRUE\n",
       "745 FALSE\n",
       "746 FALSE\n",
       "747  TRUE\n",
       "748  TRUE\n",
       "749  TRUE\n",
       "750  TRUE\n",
       "751  TRUE\n",
       "752 FALSE\n",
       "753 FALSE\n",
       "754  TRUE\n",
       "755 FALSE\n",
       "756 FALSE\n",
       "757  TRUE\n",
       "758 FALSE\n",
       "759  TRUE\n",
       "760 FALSE\n",
       "761 FALSE\n",
       "762 FALSE\n",
       "763  TRUE\n",
       "764 FALSE\n",
       "765  TRUE"
      ]
     },
     "metadata": {},
     "output_type": "display_data"
    }
   ],
   "source": [
    "# Make a lollipop chart of pricepercent\n",
    "candy_rankings_long %>%\n",
    "    arrange(-pricepercent)\n",
    "\n",
    "candy_rankings_long"
   ]
  },
  {
   "cell_type": "markdown",
   "metadata": {
    "dc": {
     "key": "25"
    },
    "deletable": false,
    "editable": false,
    "run_control": {
     "frozen": true
    },
    "tags": [
     "context"
    ]
   },
   "source": [
    "## 4. Exploring winpercent (part i)\n",
    "<p>Moving on, we'll take a look at another numerical variable in the dataset: <code>winpercent</code>. This variable records the percentage of people who prefer this candy over another randomly chosen candy from the dataset. We'll start with a histogram! The distribution of rankings looks pretty symmetrical, and seems to center on about 45%. </p>"
   ]
  },
  {
   "cell_type": "code",
   "execution_count": 0,
   "metadata": {
    "collapsed": true,
    "dc": {
     "key": "25"
    },
    "tags": [
     "sample_code"
    ]
   },
   "outputs": [],
   "source": [
    "# Plot a histogram of winpercent\n",
    "# .... YOUR CODE FOR TASK 4 ....\n"
   ]
  },
  {
   "cell_type": "markdown",
   "metadata": {
    "dc": {
     "key": "32"
    },
    "deletable": false,
    "editable": false,
    "run_control": {
     "frozen": true
    },
    "tags": [
     "context"
    ]
   },
   "source": [
    "## 5. Exploring winpercent (part ii)\n",
    "<p>Now that we've looked at the histogram, let's make another lollipop chart to visualize the rankings. It looks like Reese's Peanut Butter Cups are the all time favorite out of this set of candies!</p>"
   ]
  },
  {
   "cell_type": "code",
   "execution_count": 0,
   "metadata": {
    "collapsed": true,
    "dc": {
     "key": "32"
    },
    "tags": [
     "sample_code"
    ]
   },
   "outputs": [],
   "source": [
    "# Make a lollipop chart of winpercent\n",
    "# .... YOUR CODE FOR TASK 5 ...."
   ]
  },
  {
   "cell_type": "markdown",
   "metadata": {
    "dc": {
     "key": "39"
    },
    "deletable": false,
    "editable": false,
    "run_control": {
     "frozen": true
    },
    "tags": [
     "context"
    ]
   },
   "source": [
    "## 6. Exploring the correlation structure\n",
    "<p>Now that we've explored the dataset one variable at a time, we'll see how the variables interact with one another. This is important as we get ready to model the data because it gives us some intuition about which variables might be useful explanatory variables. We'll use the <code>corrplot</code> package to plot the correlation matrix. Taking a look at this plot, it looks like chocolaty candies are almost never fruity. I can certainly see why that's the case! This also allows us to check for possible <a href=\"https://en.wikipedia.org/wiki/Multicollinearity\">multicollinearity</a>, which can be a problem for regression modeling. It looks like we're good though!</p>"
   ]
  },
  {
   "cell_type": "code",
   "execution_count": 0,
   "metadata": {
    "collapsed": true,
    "dc": {
     "key": "39"
    },
    "tags": [
     "sample_code"
    ]
   },
   "outputs": [],
   "source": [
    "# Plot the correlation matrix using corrplot()\n",
    "# .... YOUR CODE FOR TASK 6 ...."
   ]
  },
  {
   "cell_type": "markdown",
   "metadata": {
    "dc": {
     "key": "46"
    },
    "deletable": false,
    "editable": false,
    "run_control": {
     "frozen": true
    },
    "tags": [
     "context"
    ]
   },
   "source": [
    "## 7. Fitting a linear model of winpercent\n",
    "<p><img src=\"https://s3.amazonaws.com/assets.datacamp.com/production/project_458/img/snickers.jpg\" style=\"float: left;margin:5px 20px 5px 1px;max-width: 33%\"></p>\n",
    "<p>Let's dive into the deep end of modeling by creating a linear model of <code>winpercent</code> using all the other variables (except <code>competitorname</code>). Because this is a categorical variable with a unique value in every row of the dataset, it's actually mathematically impossible to fit a linear model with it. Moreover, this variable doesn't actually include any information that our model could use because these names don't actually relate to any of the attributes of the candy.</p>\n",
    "<p>Let's fit this model, then we can dive into exploring it shortly. Maybe this will give us an idea of why people tend to prefer one candy over another!</p>"
   ]
  },
  {
   "cell_type": "code",
   "execution_count": 0,
   "metadata": {
    "collapsed": true,
    "dc": {
     "key": "46"
    },
    "tags": [
     "sample_code"
    ]
   },
   "outputs": [],
   "source": [
    "# Fit a linear model of winpercent explained by all variables \n",
    "# except competitorname\n",
    "win_mod <- ...."
   ]
  },
  {
   "cell_type": "markdown",
   "metadata": {
    "dc": {
     "key": "53"
    },
    "deletable": false,
    "editable": false,
    "run_control": {
     "frozen": true
    },
    "tags": [
     "context"
    ]
   },
   "source": [
    "## 8. Evaluating the linear model\n",
    "<p>Let's see how we did! We'll take a look at the results of our linear model and run some basic diagnostics to make sure the output is reliable.</p>\n",
    "<p>Taking a look at the coefficients, we can make some conclusions about the factors that cause people to choose one candy over another. For example, it looks like people who took this survey really like peanut butter! There are a few other significant coefficients. Which ones are these?</p>"
   ]
  },
  {
   "cell_type": "code",
   "execution_count": 0,
   "metadata": {
    "collapsed": true,
    "dc": {
     "key": "53"
    },
    "tags": [
     "sample_code"
    ]
   },
   "outputs": [],
   "source": [
    "# Take a look at the summary\n",
    "# .... YOUR CODE FOR TASK 8 ....\n",
    "\n",
    "# Plot the residuals vs the fitted values\n",
    "# .... YOUR CODE FOR TASK 8 ...."
   ]
  },
  {
   "cell_type": "markdown",
   "metadata": {
    "dc": {
     "key": "60"
    },
    "deletable": false,
    "editable": false,
    "run_control": {
     "frozen": true
    },
    "tags": [
     "context"
    ]
   },
   "source": [
    "## 9. Fit a logistic regression model of chocolate\n",
    "<p><img src=\"https://s3.amazonaws.com/assets.datacamp.com/production/project_458/img/chocolate.jpg\" style=\"float: left;margin:5px 20px 5px 1px;max-width: 33%\"></p>\n",
    "<p>Now let's try out logistic regression! We'll be trying to predict if a candy is chocolaty or not based on all the other features in the dataset. A logistic regression is a great choice for this particular modeling task because the variable we're trying to predict is either <code>TRUE</code> or <code>FALSE</code>. The logistic regression model will output a probability that we can use to make our decision. This model outputs a warning because a few of the features (like <code>crispedricewafer</code>) are only ever true when a candy is chocolate. This means that we can't draw conclusions from the coefficients, but we can still use the model to make predictions just fine!</p>"
   ]
  },
  {
   "cell_type": "code",
   "execution_count": 0,
   "metadata": {
    "collapsed": true,
    "dc": {
     "key": "60"
    },
    "tags": [
     "sample_code"
    ]
   },
   "outputs": [],
   "source": [
    "# Fit a glm() of chocolate\n",
    "choc_mod <- ...."
   ]
  },
  {
   "cell_type": "markdown",
   "metadata": {
    "dc": {
     "key": "67"
    },
    "deletable": false,
    "editable": false,
    "run_control": {
     "frozen": true
    },
    "tags": [
     "context"
    ]
   },
   "source": [
    "## 10. Evaluate the logistic regression model\n",
    "<p>Let's take our logistic regression model out for a spin! We'll start by creating a data frame of predictions we can compare to the actual values. Then we'll evaluate the model by making a confusion matrix and calculating the accuracy.</p>\n",
    "<p>Looking at the summary, it looks like most of the coefficients aren't statistically significant. In this case, that's okay because we're not trying to draw any conclusions about the relationships between the predictor variables and the response. We're only trying to make accurate predictions and, taking a look at our confusion matrix, it seems like we did a pretty good job!</p>"
   ]
  },
  {
   "cell_type": "code",
   "execution_count": 0,
   "metadata": {
    "collapsed": true,
    "dc": {
     "key": "67"
    },
    "tags": [
     "sample_code"
    ]
   },
   "outputs": [],
   "source": [
    "# Print the summary\n",
    "# .... YOUR CODE FOR TASK 10 ....\n",
    "\n",
    "# Make a dataframe of predictions\n",
    "preds <- ....\n",
    "\n",
    "# Create the confusion matrix\n",
    "conf_mat <- ....\n",
    "\n",
    "# Calculate the accuracy\n",
    "accuracy <- ....\n"
   ]
  }
 ],
 "metadata": {
  "kernelspec": {
   "display_name": "R",
   "language": "R",
   "name": "ir"
  },
  "language_info": {
   "codemirror_mode": "r",
   "file_extension": ".r",
   "mimetype": "text/x-r-source",
   "name": "R",
   "pygments_lexer": "r",
   "version": "3.5.1"
  }
 },
 "nbformat": 4,
 "nbformat_minor": 2
}
